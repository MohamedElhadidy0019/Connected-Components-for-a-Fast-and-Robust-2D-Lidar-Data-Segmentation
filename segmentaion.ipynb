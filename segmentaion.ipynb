{
 "cells": [
  {
   "cell_type": "code",
   "execution_count": 374,
   "source": [
    "\n",
    "import numpy as np\n",
    "\n",
    "import pandas as pd\n",
    "\n",
    "\n",
    "LIDAR_MAX_RANGE=20"
   ],
   "outputs": [],
   "metadata": {}
  },
  {
   "cell_type": "code",
   "execution_count": 375,
   "source": [
    "'''\n",
    "Read data from txt file using pandas\n",
    "'''\n",
    "\n",
    "df = pd.read_csv('scans.txt', delimiter = \"\\n\")\n",
    "\n",
    "#print(df)"
   ],
   "outputs": [],
   "metadata": {}
  },
  {
   "cell_type": "code",
   "execution_count": 376,
   "source": [
    "'''\n",
    "Creating a Theta vector\n",
    "'''\n",
    "theta=np.arange(180)\n",
    "#print(theta)"
   ],
   "outputs": [],
   "metadata": {}
  },
  {
   "cell_type": "code",
   "execution_count": 377,
   "source": [
    "'''\n",
    "Storing the first column of the data fram to be the Lidar readings vector\n",
    "'''\n",
    "scanned_data = df.iloc[:, 0].values\n",
    "print(scanned_data.shape)\n",
    "#scanned_data=scanned_data.reshape(180,1)"
   ],
   "outputs": [
    {
     "output_type": "stream",
     "name": "stdout",
     "text": [
      "(180,)\n"
     ]
    }
   ],
   "metadata": {}
  },
  {
   "cell_type": "code",
   "execution_count": 378,
   "source": [
    "'''\n",
    "Element wise multiplication of Theta and Lidar readings vectors in order to get the polar coordinates\n",
    "Used numpy instead of making loops as numpy is fairly faster on bigger vectors, won't make big differnece on a 180 elemnt vector though\n",
    "'''\n",
    "cartesian= np.zeros(shape=(2, 180))\n",
    "\n",
    "cartesian[0]= scanned_data*np.cos((theta*np.pi)/180)\n",
    "cartesian[0]+=LIDAR_MAX_RANGE\n",
    "cartesian[1]= scanned_data*np.sin((theta*np.pi)/180)\n",
    "cartesian=np.floor(cartesian.T)\n",
    "# j=0\n",
    "# for i in range(0,180):\n",
    "#     if(scanned_data[i]>0):\n",
    "#         cartesian[j]=scanned_data[i]*np.cos((i*np.pi)/180),scanned_data[i]*np.sin((i*np.pi)/180)\n",
    "#         j+=1\n",
    "\n",
    "#cartesian=np.floor(cartesian)\n",
    "#print(cartesian)\n"
   ],
   "outputs": [],
   "metadata": {}
  },
  {
   "cell_type": "code",
   "execution_count": 379,
   "source": [
    "'''\n",
    "Creating the 2D grid and a 2d array \n",
    "'''\n",
    "\n",
    "#grid is columns*rows \n",
    "#meaning that to index the grid it will be grid[y_coordinate][x_coordinate]\n",
    "# grid shape is (height,width)=(lidar_max_range,2*lidar_max_range)\n",
    "grid= np.zeros(shape=(LIDAR_MAX_RANGE,2*LIDAR_MAX_RANGE))\n"
   ],
   "outputs": [],
   "metadata": {}
  },
  {
   "cell_type": "code",
   "execution_count": 380,
   "source": [
    "'''\n",
    "This cell is to fill the grid with 1s in the place of objects seen by LIDAR\n",
    "'''\n",
    "\n",
    "for i in cartesian:\n",
    "    x,y=i\n",
    "    grid[int(y),int(x)]=1\n",
    "\n",
    "binary_image=np.copy(grid)"
   ],
   "outputs": [],
   "metadata": {}
  },
  {
   "cell_type": "code",
   "execution_count": 381,
   "source": [
    "def grid_index_exist(x,y):\n",
    "    '''\n",
    "    Function takes the x,y positoin of the grid and retruns whether postions is in bounds or not\n",
    "\n",
    "    Parameters\n",
    "    ----------\n",
    "    x : integer\n",
    "        x postion of the cell \n",
    "    \n",
    "    y: integer\n",
    "        y positoin of the cell\n",
    "\n",
    "    '''\n",
    "    max_x,max_y=grid.shape\n",
    "    if(x>=0 and x<max_x and y >=0 and y<max_y):\n",
    "        return 1\n",
    "    return 0"
   ],
   "outputs": [],
   "metadata": {}
  },
  {
   "cell_type": "code",
   "execution_count": 382,
   "source": [
    "delta=np.array([[-1,-1],[-1, 0],[-1, 1],[ 0,-1],[ 0, 1], [ 1,-1],[ 1, 0],[ 1, 1]])\n",
    "\n",
    "# for i in delta:\n",
    "#     print(i[0],\" \",i[1])"
   ],
   "outputs": [],
   "metadata": {}
  },
  {
   "cell_type": "code",
   "execution_count": 383,
   "source": [
    "#visited array to be used as flags\n",
    "visited= np.zeros(shape=(LIDAR_MAX_RANGE,2*LIDAR_MAX_RANGE))\n",
    "# delta array is used to get the 8 neigghbours to a cell\n",
    "delta=np.array([[-1,-1],[-1, 0],[-1, 1],[ 0,-1],[ 0, 1], [ 1,-1],[ 1, 0],[ 1, 1]])\n",
    "\n",
    "#ressetting the grid to the binary_image in case the grid was labelled before\n",
    "grid=np.copy(binary_image)"
   ],
   "outputs": [],
   "metadata": {}
  },
  {
   "cell_type": "code",
   "execution_count": 384,
   "source": [
    "\n",
    "#x,y , x for row and y for column \n",
    "#unlike the real map having x for width and y for height \n",
    "\n",
    "\n",
    "\n",
    "def DFS (x,y,CC):\n",
    "    '''\n",
    "    takes the x,y position of the cell and check whether it has neighbours in order to mark them, using DFS\n",
    "\n",
    "    Parameters\n",
    "    ----------\n",
    "    x : integer\n",
    "        x postion of the cell \n",
    "    \n",
    "    y: integer\n",
    "        y positoin of the cell\n",
    "\n",
    "    CC : integer\n",
    "        the value to use inorder to mark the cells and its neighbours if exist any\n",
    "\n",
    "\n",
    "\n",
    "    grid axees are as following   (rows,columns)=(x,y)\n",
    "    -----------------------------------------y axis--------------------------------\n",
    "    |\n",
    "    |\n",
    "    |\n",
    "    |\n",
    "    |\n",
    "    x\n",
    "\n",
    "    a\n",
    "    x\n",
    "    i\n",
    "    s\n",
    "    |\n",
    "    |\n",
    "    |\n",
    "    |\n",
    "    |\n",
    "    '''\n",
    "    visited[x][y]=1\n",
    "    grid[x][y]=CC\n",
    "    print(\"IN DFS\")\n",
    "    for neighbour in delta:\n",
    "        new_x,new_y=x+neighbour[0],y+neighbour[1]\n",
    "        if(grid_index_exist(new_x,new_y)):\n",
    "            if(visited[new_x][new_y]==0 and grid[new_x][new_y]>0):\n",
    "                print(new_x,' ',new_y)\n",
    "                DFS(new_x,new_y,CC)\n",
    "    \n",
    "    return  \n"
   ],
   "outputs": [],
   "metadata": {}
  },
  {
   "cell_type": "code",
   "execution_count": 385,
   "source": [
    "'''\n",
    "Running DFS on the grid to number the connected components together\n",
    "'''\n",
    "\n",
    "delta=np.array([[-1,-1],[-1, 0],[-1, 1],[ 0,-1],[ 0, 1], [ 1,-1],[ 1, 0],[ 1, 1]])\n",
    "\n",
    "CC=int(0)\n",
    "print(grid.shape)\n",
    "outter_loop,inner_loop=grid.shape\n",
    "\n",
    "for i in range(0,outter_loop):\n",
    "    for j in range (inner_loop):\n",
    "        if(visited[i,j]==0 and grid[i,j]==1):\n",
    "            CC+=1\n",
    "            #CALL DFS and label the cells with CC meanwhile searching\n",
    "            DFS(i,j,CC)\n",
    "            pass\n",
    "        pass\n"
   ],
   "outputs": [
    {
     "output_type": "stream",
     "name": "stdout",
     "text": [
      "(20, 40)\n",
      "IN DFS\n",
      "0   10\n",
      "IN DFS\n",
      "1   9\n",
      "IN DFS\n",
      "IN DFS\n",
      "IN DFS\n",
      "0   30\n",
      "IN DFS\n",
      "0   31\n",
      "IN DFS\n",
      "1   30\n",
      "IN DFS\n",
      "1   29\n",
      "IN DFS\n",
      "IN DFS\n",
      "6   12\n",
      "IN DFS\n",
      "7   11\n",
      "IN DFS\n",
      "7   12\n",
      "IN DFS\n",
      "8   12\n",
      "IN DFS\n",
      "IN DFS\n",
      "6   27\n",
      "IN DFS\n",
      "7   27\n",
      "IN DFS\n",
      "8   28\n",
      "IN DFS\n",
      "IN DFS\n",
      "15   18\n",
      "IN DFS\n",
      "15   19\n",
      "IN DFS\n",
      "15   20\n",
      "IN DFS\n",
      "16   18\n",
      "IN DFS\n"
     ]
    }
   ],
   "metadata": {}
  },
  {
   "cell_type": "code",
   "execution_count": 386,
   "source": [
    "# outter_loop,inner_loop=grid.shape\n",
    "# print(outter_loop,\"   \",inner_loop)\n",
    "# print(visited.shape)\n",
    "# print(visited)\n",
    "# print(\"###################################################3\")\n",
    "# print(grid)"
   ],
   "outputs": [],
   "metadata": {}
  },
  {
   "cell_type": "code",
   "execution_count": 387,
   "source": [
    "'''\n",
    "This cell is to print the output\n",
    "'''\n",
    "\n",
    "output_file=open(\"out.txt\",\"w\")\n",
    "\n",
    "for vector in grid:\n",
    "    for element in vector:\n",
    "        #temp=element.tostring()\n",
    "        #print(str(element))\n",
    "        if(element==0):\n",
    "            output_file.write(\".\")\n",
    "        else:\n",
    "            output_file.write(str(int(element)))\n",
    "        output_file.write(\" \")\n",
    "    output_file.write(\"\\n\")\n",
    "\n",
    "output_file.close()\n",
    "    "
   ],
   "outputs": [],
   "metadata": {}
  }
 ],
 "metadata": {
  "orig_nbformat": 4,
  "language_info": {
   "name": "python",
   "version": "3.9.5",
   "mimetype": "text/x-python",
   "codemirror_mode": {
    "name": "ipython",
    "version": 3
   },
   "pygments_lexer": "ipython3",
   "nbconvert_exporter": "python",
   "file_extension": ".py"
  },
  "kernelspec": {
   "name": "python3",
   "display_name": "Python 3.9.5 64-bit"
  },
  "interpreter": {
   "hash": "916dbcbb3f70747c44a77c7bcd40155683ae19c65e1c03b4aa3499c5328201f1"
  }
 },
 "nbformat": 4,
 "nbformat_minor": 2
}